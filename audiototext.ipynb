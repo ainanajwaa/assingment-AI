{
 "cells": [
  {
   "attachments": {},
   "cell_type": "markdown",
   "metadata": {},
   "source": [
    "CONVERTING AUDIO FILE TO TEXT "
   ]
  },
  {
   "cell_type": "code",
   "execution_count": 16,
   "metadata": {},
   "outputs": [],
   "source": [
    "#import library \n",
    "import speech_recognition as sr"
   ]
  },
  {
   "cell_type": "code",
   "execution_count": 17,
   "metadata": {},
   "outputs": [],
   "source": [
    "#INITIALIZE RECOGNIZER CLASS (FOR RECOGNIZING THE SPEECH)\n",
    "r = sr.Recognizer()"
   ]
  },
  {
   "cell_type": "code",
   "execution_count": 18,
   "metadata": {},
   "outputs": [
    {
     "name": "stdout",
     "output_type": "stream",
     "text": [
      "result2:\n",
      "{   'alternative': [   {   'confidence': 0.81501049,\n",
      "                           'transcript': 'welcome to our project which is '\n",
      "                                         'speech recognition'},\n",
      "                       {   'transcript': 'welcome door project which is speech '\n",
      "                                         'recognition'},\n",
      "                       {   'transcript': 'welcomed our project which is speech '\n",
      "                                         'recognition'},\n",
      "                       {   'transcript': 'welcome dark project which is speech '\n",
      "                                         'recognition'},\n",
      "                       {   'transcript': 'welcomed are project which is speech '\n",
      "                                         'recognition'}],\n",
      "    'final': True}\n",
      "converting audio file to transcript text...\n",
      "welcome to our project which is speech recognition\n"
     ]
    }
   ],
   "source": [
    "#READING AUDIO DATA AS SOURCE\n",
    "#LISTENING THE AUDIO FILE AND STORE IN AUDIO_TEXT VARIABLE\n",
    "\n",
    "with sr.AudioFile('speech1.wav') as source:\n",
    "    audio_text=r.listen(source)\n",
    "\n",
    "#RECOGNIZE_() METHOD WILL THROW A REQUEST ERROR IF THE API IS UNREACHABLE , HENCE USING EXCEPTION HANDLING \n",
    "    try:\n",
    "        #USING GOOGLE SPEECH RECOGNITION \n",
    "        text =r.recognize_google(audio_text)\n",
    "        print('converting audio file to transcript text...')\n",
    "        print(text)\n",
    "    except:\n",
    "        print('sorry cannot catch .. please run again...')"
   ]
  }
 ],
 "metadata": {
  "kernelspec": {
   "display_name": "Python 3",
   "language": "python",
   "name": "python3"
  },
  "language_info": {
   "codemirror_mode": {
    "name": "ipython",
    "version": 3
   },
   "file_extension": ".py",
   "mimetype": "text/x-python",
   "name": "python",
   "nbconvert_exporter": "python",
   "pygments_lexer": "ipython3",
   "version": "3.10.8 (tags/v3.10.8:aaaf517, Oct 11 2022, 16:50:30) [MSC v.1933 64 bit (AMD64)]"
  },
  "orig_nbformat": 4,
  "vscode": {
   "interpreter": {
    "hash": "9deea79bfd8769c20cdb41e577c31349975f53057f7c4a88718c49dab3f025eb"
   }
  }
 },
 "nbformat": 4,
 "nbformat_minor": 2
}
