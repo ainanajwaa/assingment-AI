{
 "cells": [
  {
   "attachments": {},
   "cell_type": "markdown",
   "metadata": {},
   "source": [
    "SPEECH TO TEXT RECOGNITION by using Pyaudio(for microphone users)"
   ]
  },
  {
   "cell_type": "code",
   "execution_count": 4,
   "metadata": {},
   "outputs": [],
   "source": [
    "#import library modules\n",
    "#audio as input and converts it to text\n",
    "import speech_recognition as sr\n",
    "import pyttsx3"
   ]
  },
  {
   "cell_type": "code",
   "execution_count": 5,
   "metadata": {},
   "outputs": [],
   "source": [
    "#reading microphone as source and generate command to change to the command voice \n",
    "#function to convert text to speech\n",
    "def SpeakNow (command) :\n",
    "   \n",
    "   #initialize the engine\n",
    "   voice =pyttsx3.init()\n",
    "   voice.say(command)\n",
    "   voice.runAndWait()"
   ]
  },
  {
   "cell_type": "code",
   "execution_count": 7,
   "metadata": {},
   "outputs": [
    {
     "ename": "NameError",
     "evalue": "name 'speech_recognition' is not defined",
     "output_type": "error",
     "traceback": [
      "\u001b[1;31m---------------------------------------------------------------------------\u001b[0m",
      "\u001b[1;31mNameError\u001b[0m                                 Traceback (most recent call last)",
      "Cell \u001b[1;32mIn[7], line 3\u001b[0m\n\u001b[0;32m      1\u001b[0m \u001b[39m#reading microphone as source for input and generate command to change to the command voice \u001b[39;00m\n\u001b[0;32m      2\u001b[0m \u001b[39m#listening to the speech and store in audio2 variable\u001b[39;00m\n\u001b[1;32m----> 3\u001b[0m sr \u001b[39m=\u001b[39m speech_recognition\u001b[39m.\u001b[39mRecognizer()    \u001b[39m# intialize recognize\u001b[39;00m\n\u001b[0;32m      4\u001b[0m \u001b[39mwith\u001b[39;00m speech_recognition\u001b[39m.\u001b[39mMicrophone() \u001b[39mas\u001b[39;00m source2:\n\u001b[0;32m      5\u001b[0m     \u001b[39mprint\u001b[39m(\u001b[39m\"\u001b[39m\u001b[39mRecognizing now ...\u001b[39m\u001b[39m\"\u001b[39m)\n",
      "\u001b[1;31mNameError\u001b[0m: name 'speech_recognition' is not defined"
     ]
    }
   ],
   "source": [
    "#reading microphone as source for input and generate command to change to the command voice \n",
    "#listening to the speech and store in audio2 variable\n",
    "sr = speech_recognition.Recognizer()    # intialize recognize\n",
    "with speech_recognition.Microphone() as source2:\n",
    "    print(\"Recognizing now ...\")\n",
    "#time take to wait for a while to let recognizer\n",
    "#adjust the energy threshold based on noise level at surrounding\n",
    "    sr.adjust_for_ambient_noise(source2,duration=2)\n",
    "\n",
    "    print(\"Speak Now Please....\")\n",
    "            #listen for user input         \n",
    "    audio2 = sr.listen(source2)\n",
    "\n",
    "        #using google to recognize audio\n",
    "    textt =sr.recognize_google(audio2)\n",
    "    textt =textt.lower()\n",
    "\n",
    "    print(\"Did you say : \"+textt)\n",
    "\n",
    "    SpeakNow(textt)"
   ]
  }
 ],
 "metadata": {
  "kernelspec": {
   "display_name": "Python 3.10.8 64-bit (microsoft store)",
   "language": "python",
   "name": "python3"
  },
  "language_info": {
   "codemirror_mode": {
    "name": "ipython",
    "version": 3
   },
   "file_extension": ".py",
   "mimetype": "text/x-python",
   "name": "python",
   "nbconvert_exporter": "python",
   "pygments_lexer": "ipython3",
   "version": "3.10.8"
  },
  "orig_nbformat": 4,
  "vscode": {
   "interpreter": {
    "hash": "9deea79bfd8769c20cdb41e577c31349975f53057f7c4a88718c49dab3f025eb"
   }
  }
 },
 "nbformat": 4,
 "nbformat_minor": 2
}
