{
 "cells": [
  {
   "attachments": {},
   "cell_type": "markdown",
   "metadata": {},
   "source": [
    "OPENING WEBSITE BY USING SPEECH RECOGNITION"
   ]
  },
  {
   "cell_type": "code",
   "execution_count": 1,
   "metadata": {},
   "outputs": [],
   "source": [
    "#import library module\n",
    "import speech_recognition\n",
    "import pyttsx3  #TEXT TO SPEECH CONVERSION LIBRARY IN PYTHON\n",
    "import webbrowser #web module for make browser request to open site you want"
   ]
  },
  {
   "cell_type": "code",
   "execution_count": 2,
   "metadata": {},
   "outputs": [
    {
     "name": "stdout",
     "output_type": "stream",
     "text": [
      "Please say something to open...\n",
      "Hearing...\n",
      "result2:\n",
      "[]\n",
      "ERORR:\n"
     ]
    }
   ],
   "source": [
    "if __name__== \"__main__\":   #main function to get the output\n",
    "\n",
    "    path = \"C:/Program Files (x86)/Microsoft/Edge/Application/msedge.exe %s\"\n",
    "\n",
    "    sr =speech_recognition.Recognizer()\n",
    "    with speech_recognition.Microphone() as source:\n",
    "\n",
    "        sr.adjust_for_ambient_noise(source)\n",
    "        print(\"Please say something to open...\")\n",
    "\n",
    "        audio = sr.listen(source)\n",
    "\n",
    "        print(\"Hearing...\")\n",
    "\n",
    "        try:\n",
    "            destination = sr.recognize_google(audio)\n",
    "\n",
    "            print(\"you asked to open : \" +destination)\n",
    "\n",
    "            webbrowser.get(path).open(destination)\n",
    "\n",
    "            # error message display if the query not sucessfully run\n",
    "        except Exception as e:\n",
    "            print(\"ERORR:\" +str(e))"
   ]
  }
 ],
 "metadata": {
  "kernelspec": {
   "display_name": "Python 3",
   "language": "python",
   "name": "python3"
  },
  "language_info": {
   "codemirror_mode": {
    "name": "ipython",
    "version": 3
   },
   "file_extension": ".py",
   "mimetype": "text/x-python",
   "name": "python",
   "nbconvert_exporter": "python",
   "pygments_lexer": "ipython3",
   "version": "3.10.8 (tags/v3.10.8:aaaf517, Oct 11 2022, 16:50:30) [MSC v.1933 64 bit (AMD64)]"
  },
  "orig_nbformat": 4,
  "vscode": {
   "interpreter": {
    "hash": "9deea79bfd8769c20cdb41e577c31349975f53057f7c4a88718c49dab3f025eb"
   }
  }
 },
 "nbformat": 4,
 "nbformat_minor": 2
}
